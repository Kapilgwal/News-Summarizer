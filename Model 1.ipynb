{
 "cells": [
  {
   "cell_type": "code",
   "execution_count": 1,
   "id": "ada22cce-3a4d-4f8d-985d-3fa8076a671c",
   "metadata": {},
   "outputs": [],
   "source": [
    "text = \"\"\"\n",
    "On his return to Mathura, Sri Krishna killed his uncle Kansa – after Kansa had tried several times to have Krishna killed.\n",
    "\n",
    "In Mathura, he befriended the Pandava Prince Arjuna. Sri Krishna became a counsel and friend to Arjuna.\n",
    "\n",
    "The Kurukshetra war was a battle between the Pandavas and Kauravas (led by King Dhritarashtra). Despite the provocations of the Kauravas, Sri Krishna tried to mediate to avoid a conflict. He asked the Kauravas to give the Pandavas just a small amount of land.\n",
    "\n",
    "However, Dhritarashtra refused any compromise.  Once war became inevitable, Sri Krishna offered a choice to his dearest friend Arjuna – either he could choose Sri Krishna himself, or he could choose Krishna’s armies. Arjuna chose the counsel of Sri Krishna rather than his armies.\n",
    "\n",
    "Sri-krishna_use_weaponIt was on the battlefield of Kurukshetra that Sri Krishna gave the immortal dialogue of the Bhagavad Gita, which was an exposition of Sri Krishna’s yoga and how an aspiring seeker might seek union with God. Unlike Indian scriptures of the past, the Bhagavad Gita did not require world renunciation but encouraged world acceptance. The Bhagavad Gita and the life of Sri Krishna were very important for making spirituality accessible to ordinary people – and not just yogi’s who renounced the world. The central message of Sri Krishna was for man to take part in desireless action – motivated not by human ego, but for the Divine Cause.\n",
    "\n",
    "“You are only entitled to the action, never to its fruits. Do not let the fruits of action be your motive, but do not attach yourself to nonaction.”\n",
    "\n",
    "— Bhagavad Gita Chapter 2, Verse 47\n",
    "\n",
    "During the battle, Sri Krishna occasionally intervened to help Arjuna and the Pandavas win. Sri Krishna broke his own word – proving his love for his dearest disciple was greater than so-called human morality.\n",
    "\n",
    "Sri Krishna also unveiled his universal form to Arjuna – showing Arjuna his full spiritual Realisation. After this Arjuna became a disciple of Sri Krishna, rather than just admirer and friend. Sri Krishna embodied both the human and divine aspects. As an avatar, he played a human role, but, at the same time, was a fully realised soul – one with God. During his lifetime, few recognised Sri Krishna’s spiritual height.\n",
    "\n",
    "Sri Krishna took eight principal wives and had many sons. However, his sons were unspiritual and became increasingly haughty and arrogant. It is also said, Sri Krishna took 16,100 more women whom he had rescued from Narakasura’s Palace after killing Narakasura. It illustrates Sri Krishna’s compassion for the downtrodden and unfortunate victims of society and old social traditions.\n",
    "\n",
    "After the Battle of Kurukshetra, Krishna visited Gandhari to offer his condolences (Gandhari, wife of Dhritarashtra, had lost 100 sons in the battle) Gandhari cursed Sri Krishna because she believed he could have stopped the fighting. Gandhari cursed that Krishna would die within 36 years, along with anyone from the Yadu dynasty. Sri Krishna was happy to accept this curse because his sons had become badly behaved and he knew his mission was drawing to a close.\n",
    "\"\"\""
   ]
  },
  {
   "cell_type": "code",
   "execution_count": 2,
   "id": "2513c0a1-ab87-4763-9b45-93f96cc7265f",
   "metadata": {},
   "outputs": [],
   "source": [
    "import spacy\n",
    "from spacy.lang.en.stop_words import STOP_WORDS\n",
    "from string import punctuation"
   ]
  },
  {
   "cell_type": "code",
   "execution_count": 3,
   "id": "d3613424-169f-41d6-a898-7d7128fb3ed8",
   "metadata": {},
   "outputs": [
    {
     "data": {
      "text/plain": [
       "['’re',\n",
       " 'after',\n",
       " 'three',\n",
       " 'might',\n",
       " 'during',\n",
       " '‘ll',\n",
       " 'thru',\n",
       " 'which',\n",
       " 'hers',\n",
       " 'two',\n",
       " 'yet',\n",
       " 'give',\n",
       " 'together',\n",
       " 'out',\n",
       " 'what',\n",
       " 'many',\n",
       " 'between',\n",
       " 'they',\n",
       " 'their',\n",
       " 'amount',\n",
       " 'move',\n",
       " 'yourself',\n",
       " 'third',\n",
       " 'everyone',\n",
       " 'over',\n",
       " 'please',\n",
       " 'however',\n",
       " 'call',\n",
       " 'do',\n",
       " 'became',\n",
       " '‘m',\n",
       " 'we',\n",
       " \"'ve\",\n",
       " 'am',\n",
       " 'further',\n",
       " 'from',\n",
       " 'eight',\n",
       " 'anywhere',\n",
       " 'would',\n",
       " 'n’t',\n",
       " 'this',\n",
       " 'thereupon',\n",
       " 'us',\n",
       " 'seemed',\n",
       " '‘s',\n",
       " 'everything',\n",
       " 'sometime',\n",
       " 'our',\n",
       " 'was',\n",
       " 'than',\n",
       " 'is',\n",
       " 'though',\n",
       " 'empty',\n",
       " 'does',\n",
       " 'the',\n",
       " 'again',\n",
       " 'whose',\n",
       " 'someone',\n",
       " 'back',\n",
       " 'upon',\n",
       " 'her',\n",
       " 'himself',\n",
       " 'by',\n",
       " 'everywhere',\n",
       " 'may',\n",
       " 'already',\n",
       " 'me',\n",
       " 'to',\n",
       " 'while',\n",
       " 'least',\n",
       " 'where',\n",
       " 'somewhere',\n",
       " 'either',\n",
       " 'former',\n",
       " 'who',\n",
       " 'bottom',\n",
       " 'herself',\n",
       " 'among',\n",
       " 'just',\n",
       " 'otherwise',\n",
       " '’m',\n",
       " 'moreover',\n",
       " 'so',\n",
       " 'anything',\n",
       " 'along',\n",
       " 'off',\n",
       " 'alone',\n",
       " \"n't\",\n",
       " 'behind',\n",
       " 'some',\n",
       " 'all',\n",
       " 'such',\n",
       " 'nine',\n",
       " 'there',\n",
       " 'show',\n",
       " 'amongst',\n",
       " 'seem',\n",
       " 'go',\n",
       " 'under',\n",
       " \"'m\",\n",
       " 'whoever',\n",
       " '’ve',\n",
       " 'those',\n",
       " 'any',\n",
       " 'n‘t',\n",
       " 'others',\n",
       " 'herein',\n",
       " 'when',\n",
       " 'forty',\n",
       " 'that',\n",
       " 'down',\n",
       " 'something',\n",
       " 'will',\n",
       " 'it',\n",
       " 'he',\n",
       " 'has',\n",
       " 'indeed',\n",
       " 'i',\n",
       " 'due',\n",
       " 'none',\n",
       " \"'d\",\n",
       " 'much',\n",
       " 'sixty',\n",
       " 'front',\n",
       " 'anyone',\n",
       " 'above',\n",
       " 'themselves',\n",
       " 'too',\n",
       " 'hereupon',\n",
       " 'these',\n",
       " 'anyway',\n",
       " 'on',\n",
       " 'keep',\n",
       " 'around',\n",
       " 'my',\n",
       " 'before',\n",
       " 'wherever',\n",
       " 'hence',\n",
       " 'since',\n",
       " 'although',\n",
       " 'ten',\n",
       " 'ourselves',\n",
       " 'perhaps',\n",
       " 'how',\n",
       " 'be',\n",
       " 're',\n",
       " 'becomes',\n",
       " 'latterly',\n",
       " 'a',\n",
       " 'against',\n",
       " 'formerly',\n",
       " 'towards',\n",
       " 'whom',\n",
       " 'cannot',\n",
       " 'had',\n",
       " 'besides',\n",
       " 'almost',\n",
       " 'but',\n",
       " 'or',\n",
       " 'sometimes',\n",
       " 'being',\n",
       " 'latter',\n",
       " 'six',\n",
       " 'anyhow',\n",
       " 'hereafter',\n",
       " 'thereby',\n",
       " 'could',\n",
       " 'seeming',\n",
       " 'hereby',\n",
       " 'several',\n",
       " 'nor',\n",
       " 'because',\n",
       " 'quite',\n",
       " 'therein',\n",
       " 'beside',\n",
       " '’ll',\n",
       " '’s',\n",
       " 'nevertheless',\n",
       " 'mostly',\n",
       " 'various',\n",
       " 'at',\n",
       " 'really',\n",
       " 'wherein',\n",
       " 'you',\n",
       " 'nothing',\n",
       " \"'s\",\n",
       " 'mine',\n",
       " 'your',\n",
       " 'own',\n",
       " 'neither',\n",
       " 'in',\n",
       " 'into',\n",
       " 'done',\n",
       " 'beforehand',\n",
       " 'once',\n",
       " 'well',\n",
       " 'make',\n",
       " 'must',\n",
       " 'whereupon',\n",
       " 'whereafter',\n",
       " 'its',\n",
       " 'say',\n",
       " 'else',\n",
       " 'side',\n",
       " 'four',\n",
       " 'afterwards',\n",
       " 'using',\n",
       " 'each',\n",
       " 'whither',\n",
       " 'somehow',\n",
       " 'few',\n",
       " \"'re\",\n",
       " 'whereas',\n",
       " 'thus',\n",
       " 'ever',\n",
       " 'without',\n",
       " 'onto',\n",
       " 'top',\n",
       " 'now',\n",
       " 'with',\n",
       " 'therefore',\n",
       " 'made',\n",
       " 'become',\n",
       " 'five',\n",
       " 'across',\n",
       " 'other',\n",
       " 'for',\n",
       " 'have',\n",
       " 'can',\n",
       " 'first',\n",
       " 'nobody',\n",
       " 'part',\n",
       " 'meanwhile',\n",
       " 'eleven',\n",
       " 'thereafter',\n",
       " 'if',\n",
       " 'twenty',\n",
       " 'not',\n",
       " 'becoming',\n",
       " '‘ve',\n",
       " 'see',\n",
       " 'noone',\n",
       " \"'ll\",\n",
       " 'no',\n",
       " 'whole',\n",
       " '’d',\n",
       " 'whenever',\n",
       " 'whereby',\n",
       " 'less',\n",
       " 'never',\n",
       " 'get',\n",
       " 'as',\n",
       " 'about',\n",
       " 'until',\n",
       " 'next',\n",
       " 'doing',\n",
       " 'fifteen',\n",
       " 'fifty',\n",
       " 'via',\n",
       " 'and',\n",
       " 'throughout',\n",
       " 'often',\n",
       " 'toward',\n",
       " 'were',\n",
       " 'elsewhere',\n",
       " 'rather',\n",
       " 'serious',\n",
       " 'twelve',\n",
       " 'most',\n",
       " 'him',\n",
       " 'below',\n",
       " 'last',\n",
       " 'beyond',\n",
       " 'within',\n",
       " 'also',\n",
       " 'name',\n",
       " 'did',\n",
       " 'always',\n",
       " 'very',\n",
       " 'an',\n",
       " 'whatever',\n",
       " 'been',\n",
       " 'are',\n",
       " 'she',\n",
       " 'another',\n",
       " 'ca',\n",
       " 'used',\n",
       " 'myself',\n",
       " 'even',\n",
       " 'up',\n",
       " 'here',\n",
       " 'yourselves',\n",
       " 'one',\n",
       " 'still',\n",
       " 'seems',\n",
       " 'why',\n",
       " 'nowhere',\n",
       " 'then',\n",
       " 'through',\n",
       " '‘d',\n",
       " 'thence',\n",
       " 'full',\n",
       " 'same',\n",
       " 'put',\n",
       " 'them',\n",
       " 'only',\n",
       " 'his',\n",
       " 'both',\n",
       " 'regarding',\n",
       " 'unless',\n",
       " 'enough',\n",
       " 'except',\n",
       " 'per',\n",
       " 'take',\n",
       " 'hundred',\n",
       " 'every',\n",
       " 'namely',\n",
       " 'of',\n",
       " 'more',\n",
       " 'ours',\n",
       " '‘re',\n",
       " 'itself',\n",
       " 'should',\n",
       " 'whether',\n",
       " 'whence',\n",
       " 'yours']"
      ]
     },
     "execution_count": 3,
     "metadata": {},
     "output_type": "execute_result"
    }
   ],
   "source": [
    "stopwords = list(STOP_WORDS)\n",
    "stopwords"
   ]
  },
  {
   "cell_type": "code",
   "execution_count": 4,
   "id": "55efffa6-549e-4f2c-b6dd-24bbc7622b69",
   "metadata": {},
   "outputs": [],
   "source": [
    "nlp = spacy.load('en_core_web_sm')"
   ]
  },
  {
   "cell_type": "code",
   "execution_count": 5,
   "id": "1be06742-0719-4630-a9bc-26d33bfbb104",
   "metadata": {},
   "outputs": [],
   "source": [
    "doc = nlp(text)"
   ]
  },
  {
   "cell_type": "code",
   "execution_count": 6,
   "id": "6493ea4d-92cb-47db-9c1a-ab0451645401",
   "metadata": {},
   "outputs": [
    {
     "name": "stdout",
     "output_type": "stream",
     "text": [
      "['\\n', 'On', 'his', 'return', 'to', 'Mathura', ',', 'Sri', 'Krishna', 'killed', 'his', 'uncle', 'Kansa', '–', 'after', 'Kansa', 'had', 'tried', 'several', 'times', 'to', 'have', 'Krishna', 'killed', '.', '\\n\\n', 'In', 'Mathura', ',', 'he', 'befriended', 'the', 'Pandava', 'Prince', 'Arjuna', '.', 'Sri', 'Krishna', 'became', 'a', 'counsel', 'and', 'friend', 'to', 'Arjuna', '.', '\\n\\n', 'The', 'Kurukshetra', 'war', 'was', 'a', 'battle', 'between', 'the', 'Pandavas', 'and', 'Kauravas', '(', 'led', 'by', 'King', 'Dhritarashtra', ')', '.', 'Despite', 'the', 'provocations', 'of', 'the', 'Kauravas', ',', 'Sri', 'Krishna', 'tried', 'to', 'mediate', 'to', 'avoid', 'a', 'conflict', '.', 'He', 'asked', 'the', 'Kauravas', 'to', 'give', 'the', 'Pandavas', 'just', 'a', 'small', 'amount', 'of', 'land', '.', '\\n\\n', 'However', ',', 'Dhritarashtra', 'refused', 'any', 'compromise', '.', ' ', 'Once', 'war', 'became', 'inevitable', ',', 'Sri', 'Krishna', 'offered', 'a', 'choice', 'to', 'his', 'dearest', 'friend', 'Arjuna', '–', 'either', 'he', 'could', 'choose', 'Sri', 'Krishna', 'himself', ',', 'or', 'he', 'could', 'choose', 'Krishna', '’s', 'armies', '.', 'Arjuna', 'chose', 'the', 'counsel', 'of', 'Sri', 'Krishna', 'rather', 'than', 'his', 'armies', '.', '\\n\\n', 'Sri', '-', 'krishna_use_weaponIt', 'was', 'on', 'the', 'battlefield', 'of', 'Kurukshetra', 'that', 'Sri', 'Krishna', 'gave', 'the', 'immortal', 'dialogue', 'of', 'the', 'Bhagavad', 'Gita', ',', 'which', 'was', 'an', 'exposition', 'of', 'Sri', 'Krishna', '’s', 'yoga', 'and', 'how', 'an', 'aspiring', 'seeker', 'might', 'seek', 'union', 'with', 'God', '.', 'Unlike', 'Indian', 'scriptures', 'of', 'the', 'past', ',', 'the', 'Bhagavad', 'Gita', 'did', 'not', 'require', 'world', 'renunciation', 'but', 'encouraged', 'world', 'acceptance', '.', 'The', 'Bhagavad', 'Gita', 'and', 'the', 'life', 'of', 'Sri', 'Krishna', 'were', 'very', 'important', 'for', 'making', 'spirituality', 'accessible', 'to', 'ordinary', 'people', '–', 'and', 'not', 'just', 'yogi', '’s', 'who', 'renounced', 'the', 'world', '.', 'The', 'central', 'message', 'of', 'Sri', 'Krishna', 'was', 'for', 'man', 'to', 'take', 'part', 'in', 'desireless', 'action', '–', 'motivated', 'not', 'by', 'human', 'ego', ',', 'but', 'for', 'the', 'Divine', 'Cause', '.', '\\n\\n', '“', 'You', 'are', 'only', 'entitled', 'to', 'the', 'action', ',', 'never', 'to', 'its', 'fruits', '.', 'Do', 'not', 'let', 'the', 'fruits', 'of', 'action', 'be', 'your', 'motive', ',', 'but', 'do', 'not', 'attach', 'yourself', 'to', 'nonaction', '.', '”', '\\n\\n', '—', 'Bhagavad', 'Gita', 'Chapter', '2', ',', 'Verse', '47', '\\n\\n', 'During', 'the', 'battle', ',', 'Sri', 'Krishna', 'occasionally', 'intervened', 'to', 'help', 'Arjuna', 'and', 'the', 'Pandavas', 'win', '.', 'Sri', 'Krishna', 'broke', 'his', 'own', 'word', '–', 'proving', 'his', 'love', 'for', 'his', 'dearest', 'disciple', 'was', 'greater', 'than', 'so', '-', 'called', 'human', 'morality', '.', '\\n\\n', 'Sri', 'Krishna', 'also', 'unveiled', 'his', 'universal', 'form', 'to', 'Arjuna', '–', 'showing', 'Arjuna', 'his', 'full', 'spiritual', 'Realisation', '.', 'After', 'this', 'Arjuna', 'became', 'a', 'disciple', 'of', 'Sri', 'Krishna', ',', 'rather', 'than', 'just', 'admirer', 'and', 'friend', '.', 'Sri', 'Krishna', 'embodied', 'both', 'the', 'human', 'and', 'divine', 'aspects', '.', 'As', 'an', 'avatar', ',', 'he', 'played', 'a', 'human', 'role', ',', 'but', ',', 'at', 'the', 'same', 'time', ',', 'was', 'a', 'fully', 'realised', 'soul', '–', 'one', 'with', 'God', '.', 'During', 'his', 'lifetime', ',', 'few', 'recognised', 'Sri', 'Krishna', '’s', 'spiritual', 'height', '.', '\\n\\n', 'Sri', 'Krishna', 'took', 'eight', 'principal', 'wives', 'and', 'had', 'many', 'sons', '.', 'However', ',', 'his', 'sons', 'were', 'unspiritual', 'and', 'became', 'increasingly', 'haughty', 'and', 'arrogant', '.', 'It', 'is', 'also', 'said', ',', 'Sri', 'Krishna', 'took', '16,100', 'more', 'women', 'whom', 'he', 'had', 'rescued', 'from', 'Narakasura', '’s', 'Palace', 'after', 'killing', 'Narakasura', '.', 'It', 'illustrates', 'Sri', 'Krishna', '’s', 'compassion', 'for', 'the', 'downtrodden', 'and', 'unfortunate', 'victims', 'of', 'society', 'and', 'old', 'social', 'traditions', '.', '\\n\\n', 'After', 'the', 'Battle', 'of', 'Kurukshetra', ',', 'Krishna', 'visited', 'Gandhari', 'to', 'offer', 'his', 'condolences', '(', 'Gandhari', ',', 'wife', 'of', 'Dhritarashtra', ',', 'had', 'lost', '100', 'sons', 'in', 'the', 'battle', ')', 'Gandhari', 'cursed', 'Sri', 'Krishna', 'because', 'she', 'believed', 'he', 'could', 'have', 'stopped', 'the', 'fighting', '.', 'Gandhari', 'cursed', 'that', 'Krishna', 'would', 'die', 'within', '36', 'years', ',', 'along', 'with', 'anyone', 'from', 'the', 'Yadu', 'dynasty', '.', 'Sri', 'Krishna', 'was', 'happy', 'to', 'accept', 'this', 'curse', 'because', 'his', 'sons', 'had', 'become', 'badly', 'behaved', 'and', 'he', 'knew', 'his', 'mission', 'was', 'drawing', 'to', 'a', 'close', '.', '\\n']\n"
     ]
    }
   ],
   "source": [
    "tokens = [token.text for token in doc]\n",
    "print(tokens)"
   ]
  },
  {
   "cell_type": "code",
   "execution_count": 7,
   "id": "b39cefdd-53ef-464b-a9b8-37fa1d93dfbf",
   "metadata": {},
   "outputs": [
    {
     "data": {
      "text/plain": [
       "'!\"#$%&\\'()*+,-./:;<=>?@[\\\\]^_`{|}~\\n'"
      ]
     },
     "execution_count": 7,
     "metadata": {},
     "output_type": "execute_result"
    }
   ],
   "source": [
    "punctuation = punctuation + '\\n'\n",
    "punctuation"
   ]
  },
  {
   "cell_type": "code",
   "execution_count": 8,
   "id": "ae69aff2-4885-4919-972e-bf059fc61f46",
   "metadata": {},
   "outputs": [],
   "source": [
    "word_frequencies = {}\n",
    "\n",
    "for word in doc:\n",
    "    if word.text.lower() not in stopwords:\n",
    "        if word.text.lower() not in punctuation:\n",
    "            if word.text not in word_frequencies.keys():\n",
    "                word_frequencies[word.text] = 1\n",
    "            else:\n",
    "                word_frequencies[word.text] += 1"
   ]
  },
  {
   "cell_type": "code",
   "execution_count": 9,
   "id": "30aac943-cc6e-44e4-905f-adb8d53a953a",
   "metadata": {},
   "outputs": [
    {
     "name": "stdout",
     "output_type": "stream",
     "text": [
      "{'return': 1, 'Mathura': 2, 'Sri': 22, 'Krishna': 25, 'killed': 2, 'uncle': 1, 'Kansa': 2, '–': 7, 'tried': 2, 'times': 1, '\\n\\n': 10, 'befriended': 1, 'Pandava': 1, 'Prince': 1, 'Arjuna': 8, 'counsel': 2, 'friend': 3, 'Kurukshetra': 3, 'war': 2, 'battle': 3, 'Pandavas': 3, 'Kauravas': 3, 'led': 1, 'King': 1, 'Dhritarashtra': 3, 'Despite': 1, 'provocations': 1, 'mediate': 1, 'avoid': 1, 'conflict': 1, 'asked': 1, 'small': 1, 'land': 1, 'refused': 1, 'compromise': 1, ' ': 1, 'inevitable': 1, 'offered': 1, 'choice': 1, 'dearest': 2, 'choose': 2, 'armies': 2, 'chose': 1, 'krishna_use_weaponIt': 1, 'battlefield': 1, 'gave': 1, 'immortal': 1, 'dialogue': 1, 'Bhagavad': 4, 'Gita': 4, 'exposition': 1, 'yoga': 1, 'aspiring': 1, 'seeker': 1, 'seek': 1, 'union': 1, 'God': 2, 'Unlike': 1, 'Indian': 1, 'scriptures': 1, 'past': 1, 'require': 1, 'world': 3, 'renunciation': 1, 'encouraged': 1, 'acceptance': 1, 'life': 1, 'important': 1, 'making': 1, 'spirituality': 1, 'accessible': 1, 'ordinary': 1, 'people': 1, 'yogi': 1, 'renounced': 1, 'central': 1, 'message': 1, 'man': 1, 'desireless': 1, 'action': 3, 'motivated': 1, 'human': 4, 'ego': 1, 'Divine': 1, 'Cause': 1, '“': 1, 'entitled': 1, 'fruits': 2, 'let': 1, 'motive': 1, 'attach': 1, 'nonaction': 1, '”': 1, '—': 1, 'Chapter': 1, '2': 1, 'Verse': 1, '47': 1, 'occasionally': 1, 'intervened': 1, 'help': 1, 'win': 1, 'broke': 1, 'word': 1, 'proving': 1, 'love': 1, 'disciple': 2, 'greater': 1, 'called': 1, 'morality': 1, 'unveiled': 1, 'universal': 1, 'form': 1, 'showing': 1, 'spiritual': 2, 'Realisation': 1, 'admirer': 1, 'embodied': 1, 'divine': 1, 'aspects': 1, 'avatar': 1, 'played': 1, 'role': 1, 'time': 1, 'fully': 1, 'realised': 1, 'soul': 1, 'lifetime': 1, 'recognised': 1, 'height': 1, 'took': 2, 'principal': 1, 'wives': 1, 'sons': 4, 'unspiritual': 1, 'increasingly': 1, 'haughty': 1, 'arrogant': 1, 'said': 1, '16,100': 1, 'women': 1, 'rescued': 1, 'Narakasura': 2, 'Palace': 1, 'killing': 1, 'illustrates': 1, 'compassion': 1, 'downtrodden': 1, 'unfortunate': 1, 'victims': 1, 'society': 1, 'old': 1, 'social': 1, 'traditions': 1, 'Battle': 1, 'visited': 1, 'Gandhari': 4, 'offer': 1, 'condolences': 1, 'wife': 1, 'lost': 1, '100': 1, 'cursed': 2, 'believed': 1, 'stopped': 1, 'fighting': 1, 'die': 1, '36': 1, 'years': 1, 'Yadu': 1, 'dynasty': 1, 'happy': 1, 'accept': 1, 'curse': 1, 'badly': 1, 'behaved': 1, 'knew': 1, 'mission': 1, 'drawing': 1, 'close': 1}\n"
     ]
    }
   ],
   "source": [
    "print(word_frequencies)"
   ]
  },
  {
   "cell_type": "code",
   "execution_count": 10,
   "id": "7d3dfbd4-cb1c-41ec-aa5f-4713f12280af",
   "metadata": {},
   "outputs": [],
   "source": [
    "max_frequency = max(word_frequencies.values())"
   ]
  },
  {
   "cell_type": "code",
   "execution_count": 11,
   "id": "cb2f5b99-ae19-44a1-b81b-9b7de5f8796f",
   "metadata": {},
   "outputs": [
    {
     "data": {
      "text/plain": [
       "25"
      ]
     },
     "execution_count": 11,
     "metadata": {},
     "output_type": "execute_result"
    }
   ],
   "source": [
    "max_frequency"
   ]
  },
  {
   "cell_type": "code",
   "execution_count": 13,
   "id": "9d192205-92cb-437a-b3bd-d66ba299782a",
   "metadata": {},
   "outputs": [],
   "source": [
    "for word in word_frequencies.keys():\n",
    "    word_frequencies[word] = word_frequencies[word]/max_frequency"
   ]
  },
  {
   "cell_type": "code",
   "execution_count": 14,
   "id": "d26fc2cc-724a-430c-ba36-6b2def74a038",
   "metadata": {},
   "outputs": [
    {
     "name": "stdout",
     "output_type": "stream",
     "text": [
      "{'return': 0.04, 'Mathura': 0.08, 'Sri': 0.88, 'Krishna': 1.0, 'killed': 0.08, 'uncle': 0.04, 'Kansa': 0.08, '–': 0.28, 'tried': 0.08, 'times': 0.04, '\\n\\n': 0.4, 'befriended': 0.04, 'Pandava': 0.04, 'Prince': 0.04, 'Arjuna': 0.32, 'counsel': 0.08, 'friend': 0.12, 'Kurukshetra': 0.12, 'war': 0.08, 'battle': 0.12, 'Pandavas': 0.12, 'Kauravas': 0.12, 'led': 0.04, 'King': 0.04, 'Dhritarashtra': 0.12, 'Despite': 0.04, 'provocations': 0.04, 'mediate': 0.04, 'avoid': 0.04, 'conflict': 0.04, 'asked': 0.04, 'small': 0.04, 'land': 0.04, 'refused': 0.04, 'compromise': 0.04, ' ': 0.04, 'inevitable': 0.04, 'offered': 0.04, 'choice': 0.04, 'dearest': 0.08, 'choose': 0.08, 'armies': 0.08, 'chose': 0.04, 'krishna_use_weaponIt': 0.04, 'battlefield': 0.04, 'gave': 0.04, 'immortal': 0.04, 'dialogue': 0.04, 'Bhagavad': 0.16, 'Gita': 0.16, 'exposition': 0.04, 'yoga': 0.04, 'aspiring': 0.04, 'seeker': 0.04, 'seek': 0.04, 'union': 0.04, 'God': 0.08, 'Unlike': 0.04, 'Indian': 0.04, 'scriptures': 0.04, 'past': 0.04, 'require': 0.04, 'world': 0.12, 'renunciation': 0.04, 'encouraged': 0.04, 'acceptance': 0.04, 'life': 0.04, 'important': 0.04, 'making': 0.04, 'spirituality': 0.04, 'accessible': 0.04, 'ordinary': 0.04, 'people': 0.04, 'yogi': 0.04, 'renounced': 0.04, 'central': 0.04, 'message': 0.04, 'man': 0.04, 'desireless': 0.04, 'action': 0.12, 'motivated': 0.04, 'human': 0.16, 'ego': 0.04, 'Divine': 0.04, 'Cause': 0.04, '“': 0.04, 'entitled': 0.04, 'fruits': 0.08, 'let': 0.04, 'motive': 0.04, 'attach': 0.04, 'nonaction': 0.04, '”': 0.04, '—': 0.04, 'Chapter': 0.04, '2': 0.04, 'Verse': 0.04, '47': 0.04, 'occasionally': 0.04, 'intervened': 0.04, 'help': 0.04, 'win': 0.04, 'broke': 0.04, 'word': 0.04, 'proving': 0.04, 'love': 0.04, 'disciple': 0.08, 'greater': 0.04, 'called': 0.04, 'morality': 0.04, 'unveiled': 0.04, 'universal': 0.04, 'form': 0.04, 'showing': 0.04, 'spiritual': 0.08, 'Realisation': 0.04, 'admirer': 0.04, 'embodied': 0.04, 'divine': 0.04, 'aspects': 0.04, 'avatar': 0.04, 'played': 0.04, 'role': 0.04, 'time': 0.04, 'fully': 0.04, 'realised': 0.04, 'soul': 0.04, 'lifetime': 0.04, 'recognised': 0.04, 'height': 0.04, 'took': 0.08, 'principal': 0.04, 'wives': 0.04, 'sons': 0.16, 'unspiritual': 0.04, 'increasingly': 0.04, 'haughty': 0.04, 'arrogant': 0.04, 'said': 0.04, '16,100': 0.04, 'women': 0.04, 'rescued': 0.04, 'Narakasura': 0.08, 'Palace': 0.04, 'killing': 0.04, 'illustrates': 0.04, 'compassion': 0.04, 'downtrodden': 0.04, 'unfortunate': 0.04, 'victims': 0.04, 'society': 0.04, 'old': 0.04, 'social': 0.04, 'traditions': 0.04, 'Battle': 0.04, 'visited': 0.04, 'Gandhari': 0.16, 'offer': 0.04, 'condolences': 0.04, 'wife': 0.04, 'lost': 0.04, '100': 0.04, 'cursed': 0.08, 'believed': 0.04, 'stopped': 0.04, 'fighting': 0.04, 'die': 0.04, '36': 0.04, 'years': 0.04, 'Yadu': 0.04, 'dynasty': 0.04, 'happy': 0.04, 'accept': 0.04, 'curse': 0.04, 'badly': 0.04, 'behaved': 0.04, 'knew': 0.04, 'mission': 0.04, 'drawing': 0.04, 'close': 0.04}\n"
     ]
    }
   ],
   "source": [
    "print(word_frequencies)"
   ]
  },
  {
   "cell_type": "code",
   "execution_count": 15,
   "id": "680bc08b-915b-4bac-a29f-e7deeb7d70da",
   "metadata": {},
   "outputs": [
    {
     "name": "stdout",
     "output_type": "stream",
     "text": [
      "[\n",
      "On his return to Mathura, Sri Krishna killed his uncle Kansa – after Kansa had tried several times to have Krishna killed.\n",
      "\n",
      ", In Mathura, he befriended the Pandava Prince Arjuna., Sri Krishna became a counsel and friend to Arjuna.\n",
      "\n",
      ", The Kurukshetra war was a battle between the Pandavas and Kauravas (led by King Dhritarashtra)., Despite the provocations of the Kauravas, Sri Krishna tried to mediate to avoid a conflict., He asked the Kauravas to give the Pandavas just a small amount of land.\n",
      "\n",
      ", However, Dhritarashtra refused any compromise.  , Once war became inevitable, Sri Krishna offered a choice to his dearest friend Arjuna – either he could choose Sri Krishna himself, or he could choose Krishna’s armies., Arjuna chose the counsel of Sri Krishna rather than his armies.\n",
      "\n",
      ", Sri-krishna_use_weaponIt was on the battlefield of Kurukshetra that Sri Krishna gave the immortal dialogue of the Bhagavad Gita, which was an exposition of Sri Krishna’s yoga and how an aspiring seeker might seek union with God., Unlike Indian scriptures of the past, the Bhagavad Gita did not require world renunciation but encouraged world acceptance., The Bhagavad Gita and the life of Sri Krishna were very important for making spirituality accessible to ordinary people – and not just yogi’s who renounced the world., The central message of Sri Krishna was for man to take part in desireless action – motivated not by human ego, but for the Divine Cause.\n",
      "\n",
      ", “You are only entitled to the action, never to its fruits., Do not let the fruits of action be your motive, but do not attach yourself to nonaction.”\n",
      "\n",
      ", — Bhagavad Gita Chapter 2, Verse 47\n",
      "\n",
      "During the battle, Sri Krishna occasionally intervened to help Arjuna and the Pandavas win., Sri Krishna broke his own word – proving his love for his dearest disciple was greater than so-called human morality.\n",
      "\n",
      ", Sri Krishna also unveiled his universal form to Arjuna – showing Arjuna his full spiritual Realisation., After this Arjuna became a disciple of Sri Krishna, rather than just admirer and friend., Sri Krishna embodied both the human and divine aspects., As an avatar, he played a human role, but, at the same time, was a fully realised soul – one with God., During his lifetime, few recognised Sri Krishna’s spiritual height.\n",
      "\n",
      ", Sri Krishna took eight principal wives and had many sons., However, his sons were unspiritual and became increasingly haughty and arrogant., It is also said, Sri Krishna took 16,100 more women whom he had rescued from Narakasura’s Palace after killing Narakasura., It illustrates Sri Krishna’s compassion for the downtrodden and unfortunate victims of society and old social traditions.\n",
      "\n",
      ", After the Battle of Kurukshetra, Krishna visited Gandhari to offer his condolences (Gandhari, wife of Dhritarashtra, had lost 100 sons in the battle), Gandhari cursed Sri Krishna because she believed he could have stopped the fighting., Gandhari cursed that Krishna would die within 36 years, along with anyone from the Yadu dynasty., Sri Krishna was happy to accept this curse because his sons had become badly behaved and he knew his mission was drawing to a close.\n",
      "]\n"
     ]
    }
   ],
   "source": [
    "sentence_tokens = [sent for sent in doc.sents]\n",
    "print(sentence_tokens)"
   ]
  },
  {
   "cell_type": "code",
   "execution_count": 18,
   "id": "6fd22868-fc53-49f5-a230-602daaf3b473",
   "metadata": {},
   "outputs": [],
   "source": [
    "sentence_scores = {} \n",
    "for sent in sentence_tokens:\n",
    "    for word in sent:\n",
    "        if word.text.lower() in word_frequencies.keys():\n",
    "            if sent not in sentence_scores.keys():\n",
    "                sentence_scores[sent]  = word_frequencies[word.text.lower()]\n",
    "            else:\n",
    "                sentence_scores[sent]  += word_frequencies[word.text.lower()]"
   ]
  },
  {
   "cell_type": "code",
   "execution_count": 19,
   "id": "9ff2a320-8e4c-44a8-b23b-cf9b9948eec1",
   "metadata": {},
   "outputs": [
    {
     "data": {
      "text/plain": [
       "{\n",
       " On his return to Mathura, Sri Krishna killed his uncle Kansa – after Kansa had tried several times to have Krishna killed.\n",
       " : 1.04,\n",
       " In Mathura, he befriended the Pandava Prince Arjuna.: 0.04,\n",
       " Sri Krishna became a counsel and friend to Arjuna.\n",
       " : 0.6000000000000001,\n",
       " The Kurukshetra war was a battle between the Pandavas and Kauravas (led by King Dhritarashtra).: 0.24000000000000002,\n",
       " Despite the provocations of the Kauravas, Sri Krishna tried to mediate to avoid a conflict.: 0.24000000000000002,\n",
       " He asked the Kauravas to give the Pandavas just a small amount of land.\n",
       " : 0.52,\n",
       " However, Dhritarashtra refused any compromise.  : 0.12,\n",
       " Once war became inevitable, Sri Krishna offered a choice to his dearest friend Arjuna – either he could choose Sri Krishna himself, or he could choose Krishna’s armies.: 0.9199999999999999,\n",
       " Arjuna chose the counsel of Sri Krishna rather than his armies.\n",
       " : 0.6000000000000001,\n",
       " Sri-krishna_use_weaponIt was on the battlefield of Kurukshetra that Sri Krishna gave the immortal dialogue of the Bhagavad Gita, which was an exposition of Sri Krishna’s yoga and how an aspiring seeker might seek union with God.: 0.39999999999999997,\n",
       " Unlike Indian scriptures of the past, the Bhagavad Gita did not require world renunciation but encouraged world acceptance.: 0.4799999999999999,\n",
       " The Bhagavad Gita and the life of Sri Krishna were very important for making spirituality accessible to ordinary people – and not just yogi’s who renounced the world.: 0.7600000000000001,\n",
       " The central message of Sri Krishna was for man to take part in desireless action – motivated not by human ego, but for the Divine Cause.\n",
       " : 1.2400000000000002,\n",
       " “You are only entitled to the action, never to its fruits.: 0.28,\n",
       " Do not let the fruits of action be your motive, but do not attach yourself to nonaction.”\n",
       " : 0.7999999999999999,\n",
       " — Bhagavad Gita Chapter 2, Verse 47\n",
       " \n",
       " During the battle, Sri Krishna occasionally intervened to help Arjuna and the Pandavas win.: 0.8000000000000002,\n",
       " Sri Krishna broke his own word – proving his love for his dearest disciple was greater than so-called human morality.\n",
       " : 1.2800000000000002,\n",
       " Sri Krishna also unveiled his universal form to Arjuna – showing Arjuna his full spiritual Realisation.: 0.52,\n",
       " After this Arjuna became a disciple of Sri Krishna, rather than just admirer and friend.: 0.24,\n",
       " Sri Krishna embodied both the human and divine aspects.: 0.28,\n",
       " As an avatar, he played a human role, but, at the same time, was a fully realised soul – one with God.: 0.72,\n",
       " During his lifetime, few recognised Sri Krishna’s spiritual height.\n",
       " : 0.6000000000000001,\n",
       " Sri Krishna took eight principal wives and had many sons.: 0.32,\n",
       " However, his sons were unspiritual and became increasingly haughty and arrogant.: 0.32,\n",
       " It is also said, Sri Krishna took 16,100 more women whom he had rescued from Narakasura’s Palace after killing Narakasura.: 0.28,\n",
       " It illustrates Sri Krishna’s compassion for the downtrodden and unfortunate victims of society and old social traditions.\n",
       " : 0.76,\n",
       " After the Battle of Kurukshetra, Krishna visited Gandhari to offer his condolences (Gandhari, wife of Dhritarashtra, had lost 100 sons in the battle): 0.64,\n",
       " Gandhari cursed Sri Krishna because she believed he could have stopped the fighting.: 0.2,\n",
       " Gandhari cursed that Krishna would die within 36 years, along with anyone from the Yadu dynasty.: 0.24000000000000002,\n",
       " Sri Krishna was happy to accept this curse because his sons had become badly behaved and he knew his mission was drawing to a close.: 0.5199999999999999}"
      ]
     },
     "execution_count": 19,
     "metadata": {},
     "output_type": "execute_result"
    }
   ],
   "source": [
    "sentence_scores"
   ]
  },
  {
   "cell_type": "code",
   "execution_count": 20,
   "id": "4fe77537-0b36-4e9a-954a-0a908914d6b6",
   "metadata": {},
   "outputs": [],
   "source": [
    "from heapq import nlargest"
   ]
  },
  {
   "cell_type": "code",
   "execution_count": 21,
   "id": "829670b4-8491-41eb-a545-bbaadbce6a50",
   "metadata": {},
   "outputs": [
    {
     "data": {
      "text/plain": [
       "10"
      ]
     },
     "execution_count": 21,
     "metadata": {},
     "output_type": "execute_result"
    }
   ],
   "source": [
    "select_length = int(len(sentence_tokens)*0.35)\n",
    "select_length"
   ]
  },
  {
   "cell_type": "code",
   "execution_count": 23,
   "id": "0c56233f-c155-481e-971a-e0b64a5f393c",
   "metadata": {},
   "outputs": [],
   "source": [
    "summary = nlargest(select_length,sentence_scores,key = sentence_scores.get)"
   ]
  },
  {
   "cell_type": "code",
   "execution_count": 24,
   "id": "f786cfae-e573-42ac-9b9e-d5dfde7364e6",
   "metadata": {},
   "outputs": [
    {
     "data": {
      "text/plain": [
       "[Sri Krishna broke his own word – proving his love for his dearest disciple was greater than so-called human morality.\n",
       " ,\n",
       " The central message of Sri Krishna was for man to take part in desireless action – motivated not by human ego, but for the Divine Cause.\n",
       " ,\n",
       " \n",
       " On his return to Mathura, Sri Krishna killed his uncle Kansa – after Kansa had tried several times to have Krishna killed.\n",
       " ,\n",
       " Once war became inevitable, Sri Krishna offered a choice to his dearest friend Arjuna – either he could choose Sri Krishna himself, or he could choose Krishna’s armies.,\n",
       " — Bhagavad Gita Chapter 2, Verse 47\n",
       " \n",
       " During the battle, Sri Krishna occasionally intervened to help Arjuna and the Pandavas win.,\n",
       " Do not let the fruits of action be your motive, but do not attach yourself to nonaction.”\n",
       " ,\n",
       " The Bhagavad Gita and the life of Sri Krishna were very important for making spirituality accessible to ordinary people – and not just yogi’s who renounced the world.,\n",
       " It illustrates Sri Krishna’s compassion for the downtrodden and unfortunate victims of society and old social traditions.\n",
       " ,\n",
       " As an avatar, he played a human role, but, at the same time, was a fully realised soul – one with God.,\n",
       " After the Battle of Kurukshetra, Krishna visited Gandhari to offer his condolences (Gandhari, wife of Dhritarashtra, had lost 100 sons in the battle)]"
      ]
     },
     "execution_count": 24,
     "metadata": {},
     "output_type": "execute_result"
    }
   ],
   "source": [
    "summary"
   ]
  },
  {
   "cell_type": "code",
   "execution_count": 25,
   "id": "653da323-6b0a-4a41-a812-073dc176281a",
   "metadata": {},
   "outputs": [],
   "source": [
    "final_summary = [word.text for word in  summary]"
   ]
  },
  {
   "cell_type": "code",
   "execution_count": 26,
   "id": "89896352-0115-46a4-8efc-0aa551d697a1",
   "metadata": {},
   "outputs": [
    {
     "data": {
      "text/plain": [
       "['Sri Krishna broke his own word – proving his love for his dearest disciple was greater than so-called human morality.\\n\\n',\n",
       " 'The central message of Sri Krishna was for man to take part in desireless action – motivated not by human ego, but for the Divine Cause.\\n\\n',\n",
       " '\\nOn his return to Mathura, Sri Krishna killed his uncle Kansa – after Kansa had tried several times to have Krishna killed.\\n\\n',\n",
       " 'Once war became inevitable, Sri Krishna offered a choice to his dearest friend Arjuna – either he could choose Sri Krishna himself, or he could choose Krishna’s armies.',\n",
       " '— Bhagavad Gita Chapter 2, Verse 47\\n\\nDuring the battle, Sri Krishna occasionally intervened to help Arjuna and the Pandavas win.',\n",
       " 'Do not let the fruits of action be your motive, but do not attach yourself to nonaction.”\\n\\n',\n",
       " 'The Bhagavad Gita and the life of Sri Krishna were very important for making spirituality accessible to ordinary people – and not just yogi’s who renounced the world.',\n",
       " 'It illustrates Sri Krishna’s compassion for the downtrodden and unfortunate victims of society and old social traditions.\\n\\n',\n",
       " 'As an avatar, he played a human role, but, at the same time, was a fully realised soul – one with God.',\n",
       " 'After the Battle of Kurukshetra, Krishna visited Gandhari to offer his condolences (Gandhari, wife of Dhritarashtra, had lost 100 sons in the battle)']"
      ]
     },
     "execution_count": 26,
     "metadata": {},
     "output_type": "execute_result"
    }
   ],
   "source": [
    "final_summary"
   ]
  },
  {
   "cell_type": "code",
   "execution_count": 27,
   "id": "0a7bb64c-b5fb-4b84-8496-282ba0c69978",
   "metadata": {},
   "outputs": [],
   "source": [
    "summary = ' '.join(final_summary)"
   ]
  },
  {
   "cell_type": "code",
   "execution_count": 28,
   "id": "8b829c38-74ee-429e-a907-926ae8437682",
   "metadata": {},
   "outputs": [
    {
     "name": "stdout",
     "output_type": "stream",
     "text": [
      "Sri Krishna broke his own word – proving his love for his dearest disciple was greater than so-called human morality.\n",
      "\n",
      " The central message of Sri Krishna was for man to take part in desireless action – motivated not by human ego, but for the Divine Cause.\n",
      "\n",
      " \n",
      "On his return to Mathura, Sri Krishna killed his uncle Kansa – after Kansa had tried several times to have Krishna killed.\n",
      "\n",
      " Once war became inevitable, Sri Krishna offered a choice to his dearest friend Arjuna – either he could choose Sri Krishna himself, or he could choose Krishna’s armies. — Bhagavad Gita Chapter 2, Verse 47\n",
      "\n",
      "During the battle, Sri Krishna occasionally intervened to help Arjuna and the Pandavas win. Do not let the fruits of action be your motive, but do not attach yourself to nonaction.”\n",
      "\n",
      " The Bhagavad Gita and the life of Sri Krishna were very important for making spirituality accessible to ordinary people – and not just yogi’s who renounced the world. It illustrates Sri Krishna’s compassion for the downtrodden and unfortunate victims of society and old social traditions.\n",
      "\n",
      " As an avatar, he played a human role, but, at the same time, was a fully realised soul – one with God. After the Battle of Kurukshetra, Krishna visited Gandhari to offer his condolences (Gandhari, wife of Dhritarashtra, had lost 100 sons in the battle)\n"
     ]
    }
   ],
   "source": [
    "print(summary)"
   ]
  },
  {
   "cell_type": "code",
   "execution_count": 29,
   "id": "c9967afa-02dc-4a67-95f8-3acf024c1f04",
   "metadata": {},
   "outputs": [
    {
     "name": "stdout",
     "output_type": "stream",
     "text": [
      "\n",
      "On his return to Mathura, Sri Krishna killed his uncle Kansa – after Kansa had tried several times to have Krishna killed.\n",
      "\n",
      "In Mathura, he befriended the Pandava Prince Arjuna. Sri Krishna became a counsel and friend to Arjuna.\n",
      "\n",
      "The Kurukshetra war was a battle between the Pandavas and Kauravas (led by King Dhritarashtra). Despite the provocations of the Kauravas, Sri Krishna tried to mediate to avoid a conflict. He asked the Kauravas to give the Pandavas just a small amount of land.\n",
      "\n",
      "However, Dhritarashtra refused any compromise.  Once war became inevitable, Sri Krishna offered a choice to his dearest friend Arjuna – either he could choose Sri Krishna himself, or he could choose Krishna’s armies. Arjuna chose the counsel of Sri Krishna rather than his armies.\n",
      "\n",
      "Sri-krishna_use_weaponIt was on the battlefield of Kurukshetra that Sri Krishna gave the immortal dialogue of the Bhagavad Gita, which was an exposition of Sri Krishna’s yoga and how an aspiring seeker might seek union with God. Unlike Indian scriptures of the past, the Bhagavad Gita did not require world renunciation but encouraged world acceptance. The Bhagavad Gita and the life of Sri Krishna were very important for making spirituality accessible to ordinary people – and not just yogi’s who renounced the world. The central message of Sri Krishna was for man to take part in desireless action – motivated not by human ego, but for the Divine Cause.\n",
      "\n",
      "“You are only entitled to the action, never to its fruits. Do not let the fruits of action be your motive, but do not attach yourself to nonaction.”\n",
      "\n",
      "— Bhagavad Gita Chapter 2, Verse 47\n",
      "\n",
      "During the battle, Sri Krishna occasionally intervened to help Arjuna and the Pandavas win. Sri Krishna broke his own word – proving his love for his dearest disciple was greater than so-called human morality.\n",
      "\n",
      "Sri Krishna also unveiled his universal form to Arjuna – showing Arjuna his full spiritual Realisation. After this Arjuna became a disciple of Sri Krishna, rather than just admirer and friend. Sri Krishna embodied both the human and divine aspects. As an avatar, he played a human role, but, at the same time, was a fully realised soul – one with God. During his lifetime, few recognised Sri Krishna’s spiritual height.\n",
      "\n",
      "Sri Krishna took eight principal wives and had many sons. However, his sons were unspiritual and became increasingly haughty and arrogant. It is also said, Sri Krishna took 16,100 more women whom he had rescued from Narakasura’s Palace after killing Narakasura. It illustrates Sri Krishna’s compassion for the downtrodden and unfortunate victims of society and old social traditions.\n",
      "\n",
      "After the Battle of Kurukshetra, Krishna visited Gandhari to offer his condolences (Gandhari, wife of Dhritarashtra, had lost 100 sons in the battle) Gandhari cursed Sri Krishna because she believed he could have stopped the fighting. Gandhari cursed that Krishna would die within 36 years, along with anyone from the Yadu dynasty. Sri Krishna was happy to accept this curse because his sons had become badly behaved and he knew his mission was drawing to a close.\n",
      "\n"
     ]
    }
   ],
   "source": [
    "print(text)"
   ]
  },
  {
   "cell_type": "code",
   "execution_count": 30,
   "id": "ccf1e7cf-54b8-4ed5-8913-9d306ab2a766",
   "metadata": {},
   "outputs": [
    {
     "name": "stdout",
     "output_type": "stream",
     "text": [
      "3100\n",
      "1318\n"
     ]
    }
   ],
   "source": [
    "print(len(text))\n",
    "print(len(summary))"
   ]
  },
  {
   "cell_type": "code",
   "execution_count": null,
   "id": "f075eac0-192f-415c-a547-463024bc85d5",
   "metadata": {},
   "outputs": [],
   "source": []
  }
 ],
 "metadata": {
  "kernelspec": {
   "display_name": "Python 3 (ipykernel)",
   "language": "python",
   "name": "python3"
  },
  "language_info": {
   "codemirror_mode": {
    "name": "ipython",
    "version": 3
   },
   "file_extension": ".py",
   "mimetype": "text/x-python",
   "name": "python",
   "nbconvert_exporter": "python",
   "pygments_lexer": "ipython3",
   "version": "3.12.1"
  }
 },
 "nbformat": 4,
 "nbformat_minor": 5
}
